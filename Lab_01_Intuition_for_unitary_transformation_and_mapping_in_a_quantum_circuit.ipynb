{
  "nbformat": 4,
  "nbformat_minor": 0,
  "metadata": {
    "colab": {
      "provenance": [],
      "authorship_tag": "ABX9TyODX5uBa6T+C5SwLaFS6O1X",
      "include_colab_link": true
    },
    "kernelspec": {
      "name": "python3",
      "display_name": "Python 3"
    },
    "language_info": {
      "name": "python"
    }
  },
  "cells": [
    {
      "cell_type": "markdown",
      "metadata": {
        "id": "view-in-github",
        "colab_type": "text"
      },
      "source": [
        "<a href=\"https://colab.research.google.com/github/rasenani/Quantum-computing-by-programming/blob/basics-of-quantum-circuit/Lab_01_Intuition_for_unitary_transformation_and_mapping_in_a_quantum_circuit.ipynb\" target=\"_parent\"><img src=\"https://colab.research.google.com/assets/colab-badge.svg\" alt=\"Open In Colab\"/></a>"
      ]
    },
    {
      "cell_type": "markdown",
      "source": [
        "### In this notebook, we try to understand how we can get the unitary matrix equivalent of a certain quantum circuit and the vice versa."
      ],
      "metadata": {
        "id": "SOYZN52AI3dG"
      }
    },
    {
      "cell_type": "code",
      "execution_count": null,
      "metadata": {
        "id": "CP85CIaMHATE"
      },
      "outputs": [],
      "source": [
        "# Necessary installations\n",
        "!pip install qiskit[visualization] #Installs qiskit with all the basic visualization toolse including pylatexenc"
      ]
    },
    {
      "cell_type": "code",
      "source": [
        "# Let's import qiskit and make sure we have the latest version (2.1.1)\n",
        "import qiskit\n",
        "print(f\"Qiskit version: {qiskit.__version__}\")"
      ],
      "metadata": {
        "colab": {
          "base_uri": "https://localhost:8080/"
        },
        "id": "JT1ssuHaNCIi",
        "outputId": "04791a3f-5608-405f-91b0-57bfccd41ecd"
      },
      "execution_count": null,
      "outputs": [
        {
          "output_type": "stream",
          "name": "stdout",
          "text": [
            "Qiskit version: 2.1.1\n"
          ]
        }
      ]
    },
    {
      "cell_type": "markdown",
      "source": [
        "Make sure that you have version 2.1.1 so that no dependency trouble occurs while running the following code blocks.\n",
        "\n",
        "\n"
      ],
      "metadata": {
        "id": "N0d-9FE_8jeA"
      }
    },
    {
      "cell_type": "code",
      "source": [
        "# Necessary imports\n",
        "from qiskit import QuantumCircuit,transpile\n",
        "import numpy as np\n",
        "from qiskit.quantum_info import Statevector,Operator"
      ],
      "metadata": {
        "id": "o3LKhvqGHQHI"
      },
      "execution_count": null,
      "outputs": []
    },
    {
      "cell_type": "markdown",
      "source": [
        "###Part-01:  \n",
        "The following quantum circuit `qc` is a **Bell state generator**. A Hadamard gate is applied to qubit `q0` to introduce superposition, followed by a CNOT gate with `q0` as control and `q1` as target. This sequence entangles the two qubits.\n",
        "\n",
        "The mapping from the **initial computational basis states** to the **Bell basis states** (as observed from the final statevector) is as follows:\n",
        "\n",
        "- $|00\\rangle \\ \\longrightarrow \\ |\\Phi^{+}\\rangle = \\frac{1}{\\sqrt{2}}(|00\\rangle + |11\\rangle)$\n",
        "- $|01\\rangle \\ \\longrightarrow \\ |\\Phi^{-}\\rangle = \\frac{1}{\\sqrt{2}}(|00\\rangle - |11\\rangle)$\n",
        "- $|10\\rangle \\ \\longrightarrow \\ |\\Psi^{+}\\rangle = \\frac{1}{\\sqrt{2}}(|01\\rangle + |10\\rangle)$\n",
        "- $|11\\rangle \\ \\longrightarrow \\ |\\Psi^{-}\\rangle = \\frac{1}{\\sqrt{2}}(|10\\rangle - |01\\rangle)$\n",
        "\n",
        "This transformation defines a unitary that maps the standard basis to the **Bell basis**, often used in quantum communication protocols like quantum teleportation and superdense coding.\n"
      ],
      "metadata": {
        "id": "KLPCRCijKWb6"
      }
    },
    {
      "cell_type": "code",
      "source": [
        "qc = QuantumCircuit(2)\n",
        "# By choice of applying the XGate you can initialize whichever of the four computational basis states\n",
        "# qc.x(0)\n",
        "# qc.x(1)\n",
        "qc.barrier()\n",
        "\n",
        "qc.h(0)\n",
        "qc.cx(0,1)\n",
        "qc.draw(output='mpl')"
      ],
      "metadata": {
        "colab": {
          "base_uri": "https://localhost:8080/",
          "height": 191
        },
        "id": "LuvU2twOHdk5",
        "outputId": "0240d71e-ce7e-48eb-c58b-170158e71494"
      },
      "execution_count": null,
      "outputs": [
        {
          "output_type": "execute_result",
          "data": {
            "text/plain": [
              "<Figure size 370.906x200.667 with 1 Axes>"
            ],
            "image/png": "[encoded data removed]"
          },
          "metadata": {},
          "execution_count": 4
        }
      ]
    },
    {
      "cell_type": "code",
      "source": [
        "Statevector(qc).draw('latex')"
      ],
      "metadata": {
        "colab": {
          "base_uri": "https://localhost:8080/",
          "height": 40
        },
        "id": "3eLrOlmYHuNi",
        "outputId": "6aa08b9b-ac9c-43fb-f7e0-442d243eca43"
      },
      "execution_count": null,
      "outputs": [
        {
          "output_type": "execute_result",
          "data": {
            "text/plain": [
              "<IPython.core.display.Latex object>"
            ],
            "text/latex": "$$\\frac{\\sqrt{2}}{2} |00\\rangle+\\frac{\\sqrt{2}}{2} |11\\rangle$$"
          },
          "metadata": {},
          "execution_count": 5
        }
      ]
    },
    {
      "cell_type": "code",
      "source": [
        "# Get the unitary matrix\n",
        "unitary = Operator(qc).data\n",
        "\n",
        "# Display it\n",
        "print(np.round(unitary, 3))"
      ],
      "metadata": {
        "colab": {
          "base_uri": "https://localhost:8080/"
        },
        "id": "duxtmxm-MPNd",
        "outputId": "2601b816-a0cd-4fe0-9e35-ff08a03f061b"
      },
      "execution_count": null,
      "outputs": [
        {
          "output_type": "stream",
          "name": "stdout",
          "text": [
            "[[ 0.707+0.j  0.707+0.j  0.   +0.j  0.   +0.j]\n",
            " [ 0.   +0.j  0.   +0.j  0.707+0.j -0.707+0.j]\n",
            " [ 0.   +0.j  0.   +0.j  0.707+0.j  0.707+0.j]\n",
            " [ 0.707+0.j -0.707+0.j  0.   +0.j  0.   +0.j]]\n"
          ]
        }
      ]
    },
    {
      "cell_type": "markdown",
      "source": [
        "###Part-02:  \n",
        "Now we try to do the reverse of the above. Here we are given an Unitary matrix, U. We are required to generate a Quantum Circuit equivalent to the unitary transformation defined by this particular unitary matrix."
      ],
      "metadata": {
        "id": "2QlGzFlrOL4J"
      }
    },
    {
      "cell_type": "code",
      "source": [
        "U = (1 / np.sqrt(2)) * np.array([\n",
        "    [1, 1, 0, 0],\n",
        "    [0, 0, 1, 1],\n",
        "    [0, 0, 1, -1],\n",
        "    [1, -1, 0, 0],\n",
        "])"
      ],
      "metadata": {
        "id": "2sAIpKcCO15m"
      },
      "execution_count": null,
      "outputs": []
    },
    {
      "cell_type": "code",
      "source": [
        "qc_final = QuantumCircuit(2)\n",
        "qc_final.x(0)\n",
        "qc_final.x(1)\n",
        "qc_final.barrier()\n",
        "\n",
        "qc_final.unitary(Operator(U), [0,1])\n",
        "qc_optimized = transpile(qc_final, basis_gates = ['u3','cx'], optimization_level = 3)\n",
        "qc_optimized.draw(output='mpl')"
      ],
      "metadata": {
        "colab": {
          "base_uri": "https://localhost:8080/",
          "height": 202
        },
        "id": "vCLYIeyZD_gx",
        "outputId": "3493bcb1-7895-403b-9179-d9ad68b809dd"
      },
      "execution_count": null,
      "outputs": [
        {
          "output_type": "execute_result",
          "data": {
            "text/plain": [
              "<Figure size 956.183x200.667 with 1 Axes>"
            ],
            "image/png": "[encoded data removed]"
          },
          "metadata": {},
          "execution_count": 8
        }
      ]
    },
    {
      "cell_type": "code",
      "source": [
        "Statevector(qc_optimized).draw('latex')"
      ],
      "metadata": {
        "colab": {
          "base_uri": "https://localhost:8080/",
          "height": 40
        },
        "id": "JCNYvSJAISma",
        "outputId": "48288688-afab-4c9d-a342-eb9502c616cb"
      },
      "execution_count": null,
      "outputs": [
        {
          "output_type": "execute_result",
          "data": {
            "text/plain": [
              "<IPython.core.display.Latex object>"
            ],
            "text/latex": "$$\\frac{\\sqrt{2}}{2} |01\\rangle- \\frac{\\sqrt{2}}{2} |10\\rangle$$"
          },
          "metadata": {},
          "execution_count": 9
        }
      ]
    },
    {
      "cell_type": "markdown",
      "source": [
        "Now complete the mapping in this case. One has been done as a sample:\n",
        "- $|00\\rangle \\ \\longrightarrow \\ |\\rangle = \\frac{1}{\\sqrt{2}}(|\\rangle + |\\rangle)$\n",
        "- $|01\\rangle \\ \\longrightarrow \\ |\\rangle = \\frac{1}{\\sqrt{2}}(|\\rangle + |\\rangle)$\n",
        "- $|10\\rangle \\ \\longrightarrow \\ |\\rangle = \\frac{1}{\\sqrt{2}}(|\\rangle + |\\rangle)$\n",
        "- $|11\\rangle \\ \\longrightarrow \\ -|\\Psi^{-}\\rangle = \\frac{1}{\\sqrt{2}}(|01\\rangle - |10\\rangle)$"
      ],
      "metadata": {
        "id": "UrlCHKW9O9o0"
      }
    },
    {
      "cell_type": "markdown",
      "source": [
        "###Part-03:\n",
        "This will be the most playful part of this notebook. Here you get to find out your own unitary transformation i.e. the matrix U_you and will find the equivalent Quantum Circuit for it. Make sure that your circuit implements the following mapping form the **Computational Basis** to the **Bell Basis**.  \n",
        "- $|00\\rangle \\ \\longrightarrow \\ |\\Phi^{+}\\rangle = \\frac{1}{\\sqrt{2}}(|00\\rangle + |11\\rangle)$\n",
        "- $|01\\rangle \\ \\longrightarrow \\ |\\Psi^{-}\\rangle = \\frac{1}{\\sqrt{2}}(|10\\rangle - |01\\rangle)$\n",
        "- $|10\\rangle \\ \\longrightarrow \\ |\\Phi^{-}\\rangle = \\frac{1}{\\sqrt{2}}(|00\\rangle - |11\\rangle)$\n",
        "- $|11\\rangle \\ \\longrightarrow \\ |\\Psi^{+}\\rangle = \\frac{1}{\\sqrt{2}}(|10\\rangle + |01\\rangle)$"
      ],
      "metadata": {
        "id": "-FtAuj7VQG63"
      }
    },
    {
      "cell_type": "code",
      "source": [
        "qc_you = QuantumCircuit(2)\n",
        "# Todo\n",
        "# Your code here\n",
        "# Todo\n",
        "qc_you.barrier()\n",
        "\n",
        "# Todo\n",
        "# Your code here\n",
        "# Todo\n",
        "# qc_you_optimized.draw(output = 'mpl')"
      ],
      "metadata": {
        "id": "QFZNjMDaR_po"
      },
      "execution_count": null,
      "outputs": []
    },
    {
      "cell_type": "code",
      "source": [
        "# Statevector(qc_you_optimized).draw('latex')"
      ],
      "metadata": {
        "id": "Gl58JqCuShiW"
      },
      "execution_count": null,
      "outputs": []
    },
    {
      "cell_type": "markdown",
      "source": [
        "**Hints**  \n",
        "1. Understand the Part-01: Why does the mapping get implemented in that way\n",
        "2. Remember that qiskit employs the little endian approach. Keep that in mind when you read the statevector\n",
        "3. Find out how to determine the unitary transformation from an input state to an output state"
      ],
      "metadata": {
        "id": "G9lnODkiSp73"
      }
    },
    {
      "cell_type": "markdown",
      "source": [
        "###**Lab-01: Intuition for unitary transformation and mapping in a quantum circuit**  \n",
        "Created by: Animesh Banik  \n",
        "Date: 07/31/2025  \n",
        "####Reach out for any further clarification:  \n",
        "e-mail: animesh4physics@gmail.com  \n",
        "linkedin: https://www.linkedin.com/in/animesh-banik-276a5a2aa/"
      ],
      "metadata": {
        "id": "SehU26VZTq4c"
      }
    }
  ]
}