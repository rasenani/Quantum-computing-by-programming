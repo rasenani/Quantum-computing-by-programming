{
  "nbformat": 4,
  "nbformat_minor": 0,
  "metadata": {
    "colab": {
      "provenance": [],
      "authorship_tag": "ABX9TyNTAcrMsX0wstsyw9PlFcK/",
      "include_colab_link": true
    },
    "kernelspec": {
      "name": "python3",
      "display_name": "Python 3"
    },
    "language_info": {
      "name": "python"
    }
  },
  "cells": [
    {
      "cell_type": "markdown",
      "metadata": {
        "id": "view-in-github",
        "colab_type": "text"
      },
      "source": [
        "<a href=\"https://colab.research.google.com/github/rasenani/Hands-on-Quantum-Computing/blob/Fundamentals-of-quantum-gates!/Lab_00_Getting_a_feel_of_the_single_qubit_quantum_gates.ipynb\" target=\"_parent\"><img src=\"https://colab.research.google.com/assets/colab-badge.svg\" alt=\"Open In Colab\"/></a>"
      ]
    },
    {
      "cell_type": "code",
      "execution_count": null,
      "metadata": {
        "id": "8X_PZqppn-g7"
      },
      "outputs": [],
      "source": [
        "!pip install qiskit[visualization]"
      ]
    },
    {
      "cell_type": "code",
      "source": [
        "import numpy as np\n",
        "from qiskit import QuantumCircuit,transpile\n",
        "from qiskit.quantum_info import Statevector,Operator\n",
        "from qiskit.circuit.library import UnitaryGate"
      ],
      "metadata": {
        "id": "0kVSAKC8oGR9"
      },
      "execution_count": null,
      "outputs": []
    },
    {
      "cell_type": "markdown",
      "source": [
        "##Getting a feel of the quantum gates\n",
        "Your task is to get a clear idea of what a quantum gate does to a well-defined quantum state. For that purpose we will first see the single qubit quantum gates and then the two qubit quantum gates."
      ],
      "metadata": {
        "id": "DdWrbmQLr-RN"
      }
    },
    {
      "cell_type": "markdown",
      "source": [
        "##Single qubit gates :  \n",
        "- X Gate :  \n",
        "Action: Bit flip, Example: $|0\\rangle$ --> $|1\\rangle$ and\n",
        "$|1\\rangle$ --> $|0\\rangle$\n",
        "- Y Gate :  \n",
        "Action:\n",
        "- Z Gate :   \n",
        "Action:\n",
        "- Hadamard Gate :  \n",
        "###Rotational Gates:  \n",
        "- RX Gate:  \n",
        "Action:\n",
        "- RY Gate:  \n",
        "Action:\n",
        "- RZ Gate:  \n",
        "Action:\n",
        "- S Gate:  \n",
        "Action:\n",
        "- P Gate:  \n",
        "Action:\n",
        "###Exercise-01:  \n",
        "You are to fill out the actions of the rest of the quantum gates by manipulating the following code blocks and interpreting the results.  \n",
        "**As a bonus for your curious mind, you could try to find out the unitary matrix form of the given single qubit gates and calculate by hand the output of a playful circuit giving a superior concept of statevector manipulation through quantum gates.**"
      ],
      "metadata": {
        "id": "rb6_6HOYo0Fp"
      }
    },
    {
      "cell_type": "code",
      "source": [
        "qc = QuantumCircuit(1)\n",
        "# Initializing a state of our choosing in the quantum circuit\n",
        "# qc.initialize([0,1],0)\n",
        "# qc.x(0)\n",
        "# qc.y(0)\n",
        "# qc.z(0)\n",
        "# qc.h(0)\n",
        "# Applying the rotational gates\n",
        "phi = np.pi/2\n",
        "# qc.rx(phi,0)\n",
        "# qc.ry(phi,0)\n",
        "# qc.rz(phi,0)\n",
        "# qc.s(0)\n",
        "# qc.p(phi,0)\n",
        "qc.draw(output='mpl')"
      ],
      "metadata": {
        "colab": {
          "base_uri": "https://localhost:8080/",
          "height": 127
        },
        "id": "R9P9mtn6oSWL",
        "outputId": "c2353c2b-e4e3-4425-e372-aa5dcaf5bfa2"
      },
      "execution_count": null,
      "outputs": [
        {
          "output_type": "execute_result",
          "data": {
            "text/plain": [
              "<Figure size 143.647x117.056 with 1 Axes>"
            ],
            "image/png": "[encoded data removed]"
          },
          "metadata": {},
          "execution_count": 3
        }
      ]
    },
    {
      "cell_type": "code",
      "source": [
        "# Shows the final statevector of the circuit defined in the previous codeblock.\n",
        "# Keep in mind that the initial state is defined as |0> automatically in qiskit\n",
        "# if not instructed otherwise.\n",
        "Statevector(qc).draw('latex')"
      ],
      "metadata": {
        "colab": {
          "base_uri": "https://localhost:8080/",
          "height": 37
        },
        "id": "RWgrTAwkt5R_",
        "outputId": "6c1b3436-c94b-4f15-8e60-536e8c006a3c"
      },
      "execution_count": null,
      "outputs": [
        {
          "output_type": "execute_result",
          "data": {
            "text/plain": [
              "<IPython.core.display.Latex object>"
            ],
            "text/latex": "$$ |0\\rangle$$"
          },
          "metadata": {},
          "execution_count": 5
        }
      ]
    },
    {
      "cell_type": "markdown",
      "source": [
        "###Exercise-02\n",
        "Try to guess what the output of the following circuit would look like:"
      ],
      "metadata": {
        "id": "1Og3K53Auv91"
      }
    },
    {
      "cell_type": "code",
      "source": [
        "qc_fun = QuantumCircuit(1)\n",
        "qc_fun.x(0)\n",
        "phi = np.pi/2\n",
        "qc_fun.ry(phi,0)\n",
        "qc_fun.y(0)\n",
        "qc_fun.h(0)\n",
        "qc_fun.p(phi/2,0)\n",
        "qc_fun.draw(output='mpl')"
      ],
      "metadata": {
        "colab": {
          "base_uri": "https://localhost:8080/",
          "height": 127
        },
        "id": "9S3iiZonvNol",
        "outputId": "4a262902-37e1-40a9-b664-82494e854dff"
      },
      "execution_count": null,
      "outputs": [
        {
          "output_type": "execute_result",
          "data": {
            "text/plain": [
              "<Figure size 519.897x117.056 with 1 Axes>"
            ],
            "image/png": "[encoded data removed]"
          },
          "metadata": {},
          "execution_count": 90
        }
      ]
    },
    {
      "cell_type": "code",
      "source": [
        "# You can check your answer by running this\n",
        "Statevector(qc_fun).draw('latex')"
      ],
      "metadata": {
        "id": "XdExMz1mwElZ"
      },
      "execution_count": null,
      "outputs": []
    },
    {
      "cell_type": "markdown",
      "source": [
        "Now we will try to implement this whole circuit using only a single qubit gate known as the **u** gate instead of using a whole series of gates. If our output remains the same then it doesn't matter which gates we use in our circuit to prepare that quantum state."
      ],
      "metadata": {
        "id": "ZCmh4RbhAr5m"
      }
    },
    {
      "cell_type": "code",
      "source": [
        "U = Operator(qc_fun).data\n",
        "# Wrap the matrix as a gate\n",
        "U_gate = UnitaryGate(U)\n",
        "\n",
        "# Create a wrapper circuit\n",
        "qc_super = QuantumCircuit(1)\n",
        "qc_super.append(U_gate, [0])\n",
        "\n",
        "# Transpile using a minimal basis\n",
        "qc_decomposed = transpile(qc_super, basis_gates=['u'], optimization_level=1)\n",
        "qc_decomposed.draw(output='mpl')"
      ],
      "metadata": {
        "colab": {
          "base_uri": "https://localhost:8080/",
          "height": 139
        },
        "id": "WIwxU8RqwVPB",
        "outputId": "e44b5a05-3476-4612-c2eb-3257bc7cfafb"
      },
      "execution_count": null,
      "outputs": [
        {
          "output_type": "execute_result",
          "data": {
            "text/plain": [
              "<Figure size 185.453x117.056 with 1 Axes>"
            ],
            "image/png": "[encoded data removed]"
          },
          "metadata": {},
          "execution_count": 106
        }
      ]
    },
    {
      "cell_type": "code",
      "source": [
        "Statevector(qc_super).draw('latex')"
      ],
      "metadata": {
        "colab": {
          "base_uri": "https://localhost:8080/",
          "height": 39
        },
        "id": "YAg5R-I63eWq",
        "outputId": "f2cc0304-4094-4d2a-c072-19efa8b00fd6"
      },
      "execution_count": null,
      "outputs": [
        {
          "output_type": "execute_result",
          "data": {
            "text/plain": [
              "<IPython.core.display.Latex object>"
            ],
            "text/latex": "$$- i |0\\rangle$$"
          },
          "metadata": {},
          "execution_count": 107
        }
      ]
    },
    {
      "cell_type": "markdown",
      "source": [
        "Now if you study what u3 is you would understand that the whole circuit **qc_fun** could be implemented without using a single quantum gate."
      ],
      "metadata": {
        "id": "Sh6Db3Km1Q9q"
      }
    },
    {
      "cell_type": "code",
      "source": [
        "qc_final = QuantumCircuit(1)\n",
        "qc_final.global_phase = 3*np.pi/2\n",
        "qc_final.draw(output='mpl')"
      ],
      "metadata": {
        "colab": {
          "base_uri": "https://localhost:8080/",
          "height": 139
        },
        "id": "quVMHYga1kNj",
        "outputId": "c93c8a23-4b9d-44bc-cc60-286e01fde7fc"
      },
      "execution_count": null,
      "outputs": [
        {
          "output_type": "execute_result",
          "data": {
            "text/plain": [
              "<Figure size 143.647x117.056 with 1 Axes>"
            ],
            "image/png": "[encoded data removed]"
          },
          "metadata": {},
          "execution_count": 100
        }
      ]
    },
    {
      "cell_type": "code",
      "source": [
        "Statevector(qc_final).draw('latex')"
      ],
      "metadata": {
        "colab": {
          "base_uri": "https://localhost:8080/",
          "height": 39
        },
        "id": "JpfEmfMK11xr",
        "outputId": "bb7bd2d3-4e87-4f40-f07b-04c482e35513"
      },
      "execution_count": null,
      "outputs": [
        {
          "output_type": "execute_result",
          "data": {
            "text/plain": [
              "<IPython.core.display.Latex object>"
            ],
            "text/latex": "$$- i |0\\rangle$$"
          },
          "metadata": {},
          "execution_count": 101
        }
      ]
    },
    {
      "cell_type": "markdown",
      "source": [
        "Lastly, if you understand what a global phase is, you would realize that this doesn't affect the overall measurement results of a quantum circuit. What this means is that the initial state $|0\\rangle$ and the corresponding measurement result one would get hasn't changed throughout this whole notebook! So what is the point of this notebook!"
      ],
      "metadata": {
        "id": "Y3heItf0BwXX"
      }
    },
    {
      "cell_type": "markdown",
      "source": [
        "##Key Realizations Summary\n",
        "1. Global Phase is Unobservable  :\n",
        "  - Transforming $|0\\rangle$--> $i|0\\rangle$ adds a global phase $i=e^{i\\pi/2}$ .\n",
        "\n",
        "  - No impact on measurements: Probabilities for $∣0\\rangle$ and $i|0\\rangle$ are identical.\n",
        "2. U Gate Can Reproduce This (But Pointless)\n",
        "  - U3(0, π/2, 0) or u(0, π/2, 0) reduces to  , but leaves $|0\\rangle$ unchanged.\n",
        "  - To explicitly add a global phase you would need to apply the intended global phase with coding approach as we have already seen # Not a physical gate!\n",
        "  - Physical gates (like P(π/2)) only affect $|1⟩$, not $|0\\rangle$.\n",
        "\n",
        "3. The Point of the Exercises:\n",
        "  - Concept and application:  Quantum gates are equivalent to unitary matrices in linear algebra applying on a quantum state which is actually just a column matrix with dimension depending on the number of qubits.\n",
        "\n",
        "  - Pedagogy: Global phases are mathematically visible but physically irrelevant for isolated states.\n",
        "\n",
        "  - Optimization: Complex circuits with only global phase changes can be simplified to no gates.\n",
        "\n",
        "  - Warning: Global phases do matter in interference (e.g., controlled operations)."
      ],
      "metadata": {
        "id": "XVvalcXwDnNz"
      }
    },
    {
      "cell_type": "markdown",
      "source": [
        "Created by: Animesh Banik  \n",
        "Date: 07/31/2025\n",
        "\n",
        "For further clarification,\n",
        "contact:   \n",
        "email: animesh4physics@gmail.com  \n",
        "linkedin: https://www.linkedin.com/in/animesh-banik-276a5a2aa/"
      ],
      "metadata": {
        "id": "wjay_ffrIEZU"
      }
    }
  ]
}
